{
  "nbformat": 4,
  "nbformat_minor": 0,
  "metadata": {
    "colab": {
      "provenance": [],
      "authorship_tag": "ABX9TyOu/M6FE7avbmiTWzxqICpL",
      "include_colab_link": true
    },
    "kernelspec": {
      "name": "python3",
      "display_name": "Python 3"
    },
    "language_info": {
      "name": "python"
    }
  },
  "cells": [
    {
      "cell_type": "markdown",
      "metadata": {
        "id": "view-in-github",
        "colab_type": "text"
      },
      "source": [
        "<a href=\"https://colab.research.google.com/github/ranjan717/Beyond-Numbers/blob/main/Tableau_MetaData_Extraction.ipynb\" target=\"_parent\"><img src=\"https://colab.research.google.com/assets/colab-badge.svg\" alt=\"Open In Colab\"/></a>"
      ]
    },
    {
      "cell_type": "code",
      "execution_count": 14,
      "metadata": {
        "id": "aBL4OgNepqg4"
      },
      "outputs": [],
      "source": [
        "import requests\n",
        "import xml.etree.ElementTree as ET"
      ]
    },
    {
      "cell_type": "code",
      "source": [
        "tableau_server = \"https://prod-apnortheast-a.online.tableau.com\"\n",
        "username = \"jabocih360@luravel.com\"\n",
        "password = \"*vbFNrM5RAiSCbM\"\n",
        "site_id = \"jabocih360ecd23eb245\"\n"
      ],
      "metadata": {
        "id": "11DYMu0tqOjl"
      },
      "execution_count": 15,
      "outputs": []
    },
    {
      "cell_type": "code",
      "source": [
        "login_url = f\"{tableau_server}/api/3.10/auth/signin\""
      ],
      "metadata": {
        "id": "d7NIUjYTUSgT"
      },
      "execution_count": 16,
      "outputs": []
    },
    {
      "cell_type": "code",
      "source": [
        "payload = {\n",
        "    \"credentials\": {\n",
        "        \"name\": username,\n",
        "        \"password\": password,\n",
        "        \"site\": {\n",
        "            \"contentUrl\": site_id\n",
        "        }\n",
        "    }\n",
        "}"
      ],
      "metadata": {
        "id": "4GO6qjSFUUig"
      },
      "execution_count": 17,
      "outputs": []
    },
    {
      "cell_type": "code",
      "source": [
        "response = requests.post(login_url, json=payload)"
      ],
      "metadata": {
        "id": "pxURClnmUaEj"
      },
      "execution_count": 18,
      "outputs": []
    },
    {
      "cell_type": "code",
      "source": [
        "if response.status_code == 200:\n",
        "    try:\n",
        "\n",
        "        root = ET.fromstring(response.content)\n",
        "        token = root.find(\".//{http://tableau.com/api}credentials\").attrib['token']\n",
        "        site_id = root.find(\".//{http://tableau.com/api}site\").attrib['id']\n",
        "        print(f\"Auth Token: {token}\")\n",
        "        print(f\"Site ID: {site_id}\")\n",
        "    except ET.ParseError as e:\n",
        "        print(\"Error parsing XML response:\", e)\n",
        "        print(\"Response content:\", response.content)\n",
        "        exit(1)\n",
        "else:\n",
        "    print(\"Failed to authenticate. Status code:\", response.status_code)\n",
        "    print(\"Response content:\", response.content)\n",
        "    exit(1)"
      ],
      "metadata": {
        "colab": {
          "base_uri": "https://localhost:8080/"
        },
        "id": "CQxIrWAiVO_C",
        "outputId": "868047b4-39f4-4618-b71d-849d2615eae3"
      },
      "execution_count": 19,
      "outputs": [
        {
          "output_type": "stream",
          "name": "stdout",
          "text": [
            "Auth Token: mdvzxeblS3iZTXDarAC_zQ|FmVCqTUoNg96QgCoHXSQa8OcbJ1HyvBs|8f780486-5c83-45aa-afca-3f317f2accdb\n",
            "Site ID: 8f780486-5c83-45aa-afca-3f317f2accdb\n"
          ]
        }
      ]
    },
    {
      "cell_type": "code",
      "source": [
        "workbooks_url = f\"{tableau_server}/api/3.10/sites/{site_id}/workbooks\""
      ],
      "metadata": {
        "id": "V7Oo_IIibauu"
      },
      "execution_count": 20,
      "outputs": []
    },
    {
      "cell_type": "code",
      "source": [
        "headers = {\n",
        "    \"X-Tableau-Auth\": token\n",
        "}"
      ],
      "metadata": {
        "id": "moevHtuVbeZD"
      },
      "execution_count": 21,
      "outputs": []
    },
    {
      "cell_type": "code",
      "source": [
        "response = requests.get(workbooks_url, headers=headers)\n"
      ],
      "metadata": {
        "id": "7A5r8LYWbrsF"
      },
      "execution_count": 22,
      "outputs": []
    },
    {
      "cell_type": "code",
      "source": [
        "if response.status_code == 200:\n",
        "    try:\n",
        "        root = ET.fromstring(response.content)\n",
        "        workbooks = root.findall(\".//{http://tableau.com/api}workbook\")\n",
        "        print(\"Workbooks:\")\n",
        "        workbook_id = None\n",
        "        for workbook in workbooks:\n",
        "            name = workbook.attrib['name']\n",
        "            workbook_id_tmp = workbook.attrib['id']\n",
        "            print(f\"Name: {name}, ID: {workbook_id_tmp}\")\n",
        "            if name == 'Account Engagement':\n",
        "                workbook_id = workbook_id_tmp\n",
        "        if workbook_id:\n",
        "            print(f\"Found workbook 'Account Engagement' with ID: {workbook_id}\")\n",
        "        else:\n",
        "            print(\"Workbook 'Account Engagement' not found.\")\n",
        "            exit(1)\n",
        "    except ET.ParseError as e:\n",
        "        print(\"Error parsing XML response:\", e)\n",
        "        print(\"Response content:\", response.content)\n",
        "else:\n",
        "    print(\"Failed to list workbooks. Status code:\", response.status_code)\n",
        "    print(\"Response content:\", response.content)\n",
        "    exit(1)"
      ],
      "metadata": {
        "colab": {
          "base_uri": "https://localhost:8080/"
        },
        "id": "_iMFnt6ybv46",
        "outputId": "8316a435-3147-4e8f-ef90-5dbe3eba8df8"
      },
      "execution_count": 23,
      "outputs": [
        {
          "output_type": "stream",
          "name": "stdout",
          "text": [
            "Workbooks:\n",
            "Name: Superstore, ID: e72c4cd7-e627-47d4-af4b-af744a381376\n",
            "Name: World Indicators, ID: f552be47-668f-4051-bd1e-17904e712eb4\n",
            "Name: Account Engagement, ID: e3f507fd-12b9-4ab4-8d59-a8c1a613d58f\n",
            "Name: RETAIL%20-%20Retail%20Sales, ID: ea2298c8-aa83-40e1-8835-095899a8e1fa\n",
            "Name: Ecommerce Site Sales analysis, ID: cad1de55-c1ba-4415-ba2c-4e1ec1046541\n",
            "Found workbook 'Account Engagement' with ID: e3f507fd-12b9-4ab4-8d59-a8c1a613d58f\n"
          ]
        }
      ]
    },
    {
      "cell_type": "code",
      "source": [
        "\n",
        "\n",
        "if workbook_id:\n",
        "    metadata_url = f\"{tableau_server}/api/3.10/sites/{site_id}/workbooks/{workbook_id}\"\n",
        "\n",
        "    response = requests.get(metadata_url, headers=headers)\n",
        "\n",
        "    if response.status_code == 200:\n",
        "        try:\n",
        "            print(\"Response content:\", response.content)\n",
        "\n",
        "            root = ET.fromstring(response.content)\n",
        "            workbook_metadata = {}\n",
        "\n",
        "            workbook = root.find(\".//{http://tableau.com/api}workbook\")\n",
        "            if workbook is not None:\n",
        "                workbook_metadata['id'] = workbook.attrib['id']\n",
        "                workbook_metadata['name'] = workbook.attrib['name']\n",
        "                workbook_metadata['createdAt'] = workbook.attrib['createdAt']\n",
        "                workbook_metadata['updatedAt'] = workbook.attrib['updatedAt']\n",
        "\n",
        "                owner = workbook.find(\".//{http://tableau.com/api}owner\")\n",
        "                if owner is not None:\n",
        "                    workbook_metadata['ownerName'] = owner.attrib['name']\n",
        "\n",
        "                datasources = workbook.findall(\".//{http://tableau.com/api}datasource\")\n",
        "                datasource_types = []\n",
        "                for datasource in datasources:\n",
        "                    datasource_types.append(datasource.attrib.get('type', 'Unknown'))\n",
        "                workbook_metadata['datasourceTypes'] = datasource_types\n",
        "\n",
        "            print(workbook_metadata)\n",
        "        except ET.ParseError as e:\n",
        "            print(\"Error parsing XML response:\", e)\n",
        "            print(\"Response content:\", response.content)\n",
        "    else:\n",
        "        print(\"Failed to get workbook metadata. Status code:\", response.status_code)\n",
        "        print(\"Response content:\", response.content)\n"
      ],
      "metadata": {
        "colab": {
          "base_uri": "https://localhost:8080/"
        },
        "id": "uIrVbzMwb0jr",
        "outputId": "94b5ec94-4b17-4efe-fe05-0c35b54ca6ad"
      },
      "execution_count": 24,
      "outputs": [
        {
          "output_type": "stream",
          "name": "stdout",
          "text": [
            "Response content: b'<?xml version=\\'1.0\\' encoding=\\'UTF-8\\'?><tsResponse xmlns=\"http://tableau.com/api\" xmlns:xsi=\"http://www.w3.org/2001/XMLSchema-instance\" xsi:schemaLocation=\"http://tableau.com/api https://help.tableau.com/samples/en-us/rest_api/ts-api_3_10.xsd\"><workbook id=\"e3f507fd-12b9-4ab4-8d59-a8c1a613d58f\" name=\"Account Engagement\" contentUrl=\"AccountEngagement\" webpageUrl=\"https://prod-apnortheast-a.online.tableau.com/#/site/jabocih360ecd23eb245/workbooks/1948144\" showTabs=\"true\" size=\"1\" createdAt=\"2024-07-03T07:28:18Z\" updatedAt=\"2024-07-03T07:28:18Z\" encryptExtracts=\"false\" defaultViewId=\"1a819f85-ee3b-486b-a541-23e8f09afd1b\"><project id=\"3270c224-c139-4bca-920b-7818fc3fe2b8\" name=\"default\"/><owner id=\"f7101066-18a5-4f74-9d40-756a8fe1cbe5\" name=\"jabocih360@luravel.com\"/><tags/><views><view id=\"1a819f85-ee3b-486b-a541-23e8f09afd1b\" name=\"Account Engagement\" contentUrl=\"AccountEngagement/sheets/AccountEngagement\" createdAt=\"2024-07-03T07:28:18Z\" updatedAt=\"2024-07-03T07:28:18Z\" viewUrlName=\"AccountEngagement\"><tags/></view></views><dataAccelerationConfig/></workbook></tsResponse>'\n",
            "{'id': 'e3f507fd-12b9-4ab4-8d59-a8c1a613d58f', 'name': 'Account Engagement', 'createdAt': '2024-07-03T07:28:18Z', 'updatedAt': '2024-07-03T07:28:18Z', 'ownerName': 'jabocih360@luravel.com', 'datasourceTypes': []}\n"
          ]
        }
      ]
    },
    {
      "cell_type": "code",
      "source": [],
      "metadata": {
        "id": "_r6SMCn0Y4Wr"
      },
      "execution_count": null,
      "outputs": []
    }
  ]
}